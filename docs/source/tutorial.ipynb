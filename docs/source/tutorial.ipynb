{
 "cells": [
  {
   "cell_type": "markdown",
   "id": "6169e512-b1b6-470e-a86e-181d228373fa",
   "metadata": {
    "tags": []
   },
   "source": [
    "# exma quick start\n",
    "\n",
    "In this tutorial we will take the typical molecular dynamics case of a Lennard-Jones (LJ) fluid, in its solid and liquid phase, and we will see how to obtain different properties of them using this library."
   ]
  },
  {
   "cell_type": "markdown",
   "id": "f9a51e4b-54bb-4ce7-9a97-0ac781095f9c",
   "metadata": {},
   "source": [
    "This first part of the code will be common to all three sections. We are going to import the necessary libraries and define the variables that we will use next. "
   ]
  },
  {
   "cell_type": "code",
   "execution_count": 1,
   "id": "91a70f76-ef44-437b-b25f-7614d304b360",
   "metadata": {},
   "outputs": [],
   "source": [
    "import exma\n",
    "import matplotlib.pyplot as plt\n",
    "import numpy as np"
   ]
  },
  {
   "cell_type": "markdown",
   "id": "00460127-21ef-4919-9734-a0d972631198",
   "metadata": {},
   "source": [
    "We are going to define the _strings_ that will direct us to where the files with the paths are located (assuming we are in _exma/docs/source_)."
   ]
  },
  {
   "cell_type": "code",
   "execution_count": 2,
   "id": "50e347b1-96b0-4c68-8dde-af1117ef562f",
   "metadata": {},
   "outputs": [],
   "source": [
    "fsolid = \"tutorial_data/solid.xyz\"\n",
    "fliquid = \"tutorial_data/liquid.xyz\""
   ]
  },
  {
   "cell_type": "markdown",
   "id": "6f3ca175-845b-4ab3-8bcd-3d8c413b5ac7",
   "metadata": {},
   "source": [
    "We have these variables defined as strings and we can read them with `exma.read_xyz` function. These trajectories were generated with a [homemade code](https://github.com/fernandezfran/tiny_md), in both cases there are 201 frames and 500 atoms."
   ]
  },
  {
   "cell_type": "code",
   "execution_count": 3,
   "id": "7a815722-8932-4476-8f4e-c26d88e72f3a",
   "metadata": {},
   "outputs": [],
   "source": [
    "frames_solid = exma.read_xyz(fsolid, ftype=\"image\")\n",
    "frames_liquid = exma.read_xyz(fliquid, ftype=\"image\")"
   ]
  },
  {
   "cell_type": "markdown",
   "id": "95ecb00e-f202-451e-a711-69b7a95de7ed",
   "metadata": {},
   "source": [
    "Next we define the parameters of the simulation cell for each case (this is necessary since the file is xyz, if it was lammpstrj we could skip this cell)."
   ]
  },
  {
   "cell_type": "code",
   "execution_count": 4,
   "id": "bd5920b8-e986-4f64-adc2-6cdb5c3fbf14",
   "metadata": {},
   "outputs": [],
   "source": [
    "solid_box = np.full(3, 7.46901)\n",
    "liquid_box = np.full(3, 8.54988)"
   ]
  },
  {
   "cell_type": "markdown",
   "id": "e283f903-4d41-43a9-86b4-4a82de787503",
   "metadata": {},
   "source": [
    "In this case the distances are given in Lennard-Jones units."
   ]
  },
  {
   "cell_type": "markdown",
   "id": "bab3f1ad-dd6a-42cb-815a-f2b5f17152fe",
   "metadata": {
    "tags": []
   },
   "source": [
    "## Mean Square Displacement (MSD)"
   ]
  },
  {
   "cell_type": "markdown",
   "id": "5910b65a-f2be-4358-a000-833c72608960",
   "metadata": {},
   "source": [
    "The mean square displacement (MSD) is a measure of the deviation of the position of the particles with respect to a reference positions over time. From it, it is possible to obtain, through a linear regression, the trace diffusion coefficient. For more information you can start reading the Wikipedia article of [mean square displacement](https://en.wikipedia.org/wiki/Mean_squared_displacement)."
   ]
  },
  {
   "cell_type": "markdown",
   "id": "ca458508-655a-441e-ad0c-c7ddf962991f",
   "metadata": {},
   "source": [
    "We start by importing the `MeanSquareDisplacement` class from exma."
   ]
  },
  {
   "cell_type": "code",
   "execution_count": 5,
   "id": "76bdc544-2eaa-44d2-bdee-40611b3f2f11",
   "metadata": {},
   "outputs": [],
   "source": [
    "from exma import MeanSquareDisplacement"
   ]
  },
  {
   "cell_type": "markdown",
   "id": "276d2f59-a0aa-4493-a7b4-e18d0db1a749",
   "metadata": {},
   "source": [
    "As in every Molecular Dynamics Observable (`MDObservable`), we have dedicated `calculate` and `plot` methods."
   ]
  },
  {
   "cell_type": "code",
   "execution_count": 6,
   "id": "2623b60b-ac8a-4274-abf6-37bd2c57ef16",
   "metadata": {},
   "outputs": [],
   "source": [
    "# for both structures we discard the first 10 equilibration frames\n",
    "solid_msd = MeanSquareDisplacement(frames_solid, 0.05, start=10)\n",
    "liquid_msd = MeanSquareDisplacement(frames_liquid, 0.05, start=10)"
   ]
  },
  {
   "cell_type": "markdown",
   "id": "482ee155-4414-4477-92f9-0be63dedae87",
   "metadata": {},
   "source": [
    "At this point we just instantiate the class, we are able to calculate, for which it is necessary to pass the optional argument of the cell length in each direction."
   ]
  },
  {
   "cell_type": "code",
   "execution_count": 7,
   "id": "222f1b2c-3ff4-4bff-a10c-a33dd3202ef7",
   "metadata": {},
   "outputs": [
    {
     "data": {
      "text/html": [
       "<div>\n",
       "<style scoped>\n",
       "    .dataframe tbody tr th:only-of-type {\n",
       "        vertical-align: middle;\n",
       "    }\n",
       "\n",
       "    .dataframe tbody tr th {\n",
       "        vertical-align: top;\n",
       "    }\n",
       "\n",
       "    .dataframe thead th {\n",
       "        text-align: right;\n",
       "    }\n",
       "</style>\n",
       "<table border=\"1\" class=\"dataframe\">\n",
       "  <thead>\n",
       "    <tr style=\"text-align: right;\">\n",
       "      <th></th>\n",
       "      <th>t</th>\n",
       "      <th>msd</th>\n",
       "    </tr>\n",
       "  </thead>\n",
       "  <tbody>\n",
       "    <tr>\n",
       "      <th>0</th>\n",
       "      <td>0.00</td>\n",
       "      <td>0.000000</td>\n",
       "    </tr>\n",
       "    <tr>\n",
       "      <th>1</th>\n",
       "      <td>0.05</td>\n",
       "      <td>0.015579</td>\n",
       "    </tr>\n",
       "    <tr>\n",
       "      <th>2</th>\n",
       "      <td>0.10</td>\n",
       "      <td>0.012065</td>\n",
       "    </tr>\n",
       "    <tr>\n",
       "      <th>3</th>\n",
       "      <td>0.15</td>\n",
       "      <td>0.014467</td>\n",
       "    </tr>\n",
       "    <tr>\n",
       "      <th>4</th>\n",
       "      <td>0.20</td>\n",
       "      <td>0.014905</td>\n",
       "    </tr>\n",
       "    <tr>\n",
       "      <th>...</th>\n",
       "      <td>...</td>\n",
       "      <td>...</td>\n",
       "    </tr>\n",
       "    <tr>\n",
       "      <th>186</th>\n",
       "      <td>9.30</td>\n",
       "      <td>0.014900</td>\n",
       "    </tr>\n",
       "    <tr>\n",
       "      <th>187</th>\n",
       "      <td>9.35</td>\n",
       "      <td>0.015280</td>\n",
       "    </tr>\n",
       "    <tr>\n",
       "      <th>188</th>\n",
       "      <td>9.40</td>\n",
       "      <td>0.014324</td>\n",
       "    </tr>\n",
       "    <tr>\n",
       "      <th>189</th>\n",
       "      <td>9.45</td>\n",
       "      <td>0.014695</td>\n",
       "    </tr>\n",
       "    <tr>\n",
       "      <th>190</th>\n",
       "      <td>9.50</td>\n",
       "      <td>0.013101</td>\n",
       "    </tr>\n",
       "  </tbody>\n",
       "</table>\n",
       "<p>191 rows × 2 columns</p>\n",
       "</div>"
      ],
      "text/plain": [
       "        t       msd\n",
       "0    0.00  0.000000\n",
       "1    0.05  0.015579\n",
       "2    0.10  0.012065\n",
       "3    0.15  0.014467\n",
       "4    0.20  0.014905\n",
       "..    ...       ...\n",
       "186  9.30  0.014900\n",
       "187  9.35  0.015280\n",
       "188  9.40  0.014324\n",
       "189  9.45  0.014695\n",
       "190  9.50  0.013101\n",
       "\n",
       "[191 rows x 2 columns]"
      ]
     },
     "execution_count": 7,
     "metadata": {},
     "output_type": "execute_result"
    }
   ],
   "source": [
    "solid_msd.calculate(box=solid_box)"
   ]
  },
  {
   "cell_type": "code",
   "execution_count": 8,
   "id": "70d3c05d-7d6c-497a-8695-4b03d4cbba1f",
   "metadata": {},
   "outputs": [
    {
     "data": {
      "text/html": [
       "<div>\n",
       "<style scoped>\n",
       "    .dataframe tbody tr th:only-of-type {\n",
       "        vertical-align: middle;\n",
       "    }\n",
       "\n",
       "    .dataframe tbody tr th {\n",
       "        vertical-align: top;\n",
       "    }\n",
       "\n",
       "    .dataframe thead th {\n",
       "        text-align: right;\n",
       "    }\n",
       "</style>\n",
       "<table border=\"1\" class=\"dataframe\">\n",
       "  <thead>\n",
       "    <tr style=\"text-align: right;\">\n",
       "      <th></th>\n",
       "      <th>t</th>\n",
       "      <th>msd</th>\n",
       "    </tr>\n",
       "  </thead>\n",
       "  <tbody>\n",
       "    <tr>\n",
       "      <th>0</th>\n",
       "      <td>0.00</td>\n",
       "      <td>0.000000</td>\n",
       "    </tr>\n",
       "    <tr>\n",
       "      <th>1</th>\n",
       "      <td>0.05</td>\n",
       "      <td>0.249304</td>\n",
       "    </tr>\n",
       "    <tr>\n",
       "      <th>2</th>\n",
       "      <td>0.10</td>\n",
       "      <td>0.420926</td>\n",
       "    </tr>\n",
       "    <tr>\n",
       "      <th>3</th>\n",
       "      <td>0.15</td>\n",
       "      <td>0.574253</td>\n",
       "    </tr>\n",
       "    <tr>\n",
       "      <th>4</th>\n",
       "      <td>0.20</td>\n",
       "      <td>0.730512</td>\n",
       "    </tr>\n",
       "    <tr>\n",
       "      <th>...</th>\n",
       "      <td>...</td>\n",
       "      <td>...</td>\n",
       "    </tr>\n",
       "    <tr>\n",
       "      <th>186</th>\n",
       "      <td>9.30</td>\n",
       "      <td>28.461536</td>\n",
       "    </tr>\n",
       "    <tr>\n",
       "      <th>187</th>\n",
       "      <td>9.35</td>\n",
       "      <td>28.706202</td>\n",
       "    </tr>\n",
       "    <tr>\n",
       "      <th>188</th>\n",
       "      <td>9.40</td>\n",
       "      <td>28.750016</td>\n",
       "    </tr>\n",
       "    <tr>\n",
       "      <th>189</th>\n",
       "      <td>9.45</td>\n",
       "      <td>28.760514</td>\n",
       "    </tr>\n",
       "    <tr>\n",
       "      <th>190</th>\n",
       "      <td>9.50</td>\n",
       "      <td>29.176495</td>\n",
       "    </tr>\n",
       "  </tbody>\n",
       "</table>\n",
       "<p>191 rows × 2 columns</p>\n",
       "</div>"
      ],
      "text/plain": [
       "        t        msd\n",
       "0    0.00   0.000000\n",
       "1    0.05   0.249304\n",
       "2    0.10   0.420926\n",
       "3    0.15   0.574253\n",
       "4    0.20   0.730512\n",
       "..    ...        ...\n",
       "186  9.30  28.461536\n",
       "187  9.35  28.706202\n",
       "188  9.40  28.750016\n",
       "189  9.45  28.760514\n",
       "190  9.50  29.176495\n",
       "\n",
       "[191 rows x 2 columns]"
      ]
     },
     "execution_count": 8,
     "metadata": {},
     "output_type": "execute_result"
    }
   ],
   "source": [
    "liquid_msd.calculate(box=solid_box)"
   ]
  },
  {
   "cell_type": "markdown",
   "id": "06747f3e-d14f-49a0-a262-777b6ea9a8ef",
   "metadata": {},
   "source": [
    "We can see directly from the numbers how in the liquid phase a larger quadratic displacement is obtained already in the first steps. But to be more illustrative, we can plot both curves on the same graph, using `plt.gca()` of matplotlib."
   ]
  },
  {
   "cell_type": "code",
   "execution_count": 9,
   "id": "cd30de33-74b5-464a-ad08-5374984afaa0",
   "metadata": {},
   "outputs": [
    {
     "data": {
      "image/png": "[encoded data removed]",
      "text/plain": [
       "<Figure size 432x288 with 1 Axes>"
      ]
     },
     "metadata": {
      "needs_background": "light"
     },
     "output_type": "display_data"
    }
   ],
   "source": [
    "ax = plt.gca()\n",
    "\n",
    "# we pass the same axis to both plots and define the labels offered by the wrapper to the plot function \n",
    "solid_msd.plot(ax=ax, plot_kws={\"label\": \"solid\"})\n",
    "liquid_msd.plot(ax=ax, plot_kws={\"label\": \"liquid\"})\n",
    "\n",
    "# we add the legend to the plot\n",
    "plt.legend()\n",
    "plt.show()"
   ]
  },
  {
   "cell_type": "markdown",
   "id": "87dae537-0a5e-438a-b998-99a31c21227d",
   "metadata": {},
   "source": [
    "We obtain the expected response for a LJ fluid where the liquid phase diffuses with the expected linear behaivor and the solid phase does not diffuse."
   ]
  },
  {
   "cell_type": "markdown",
   "id": "96988a6d-9ef6-46af-a26f-e1ce6347a8e7",
   "metadata": {},
   "source": [
    "## Radial Distribution Function (RDF)"
   ]
  },
  {
   "cell_type": "markdown",
   "id": "5ae609b8-f130-4184-b9f8-ff0ae2f69e89",
   "metadata": {},
   "source": [
    "The pair radial distribution function (RDF), _g(r)_, characterizes the local structure of a fluid, and describes the probability to find an atom in a shell at distance _r_ from a reference atom. This quantity is calculated as the ratio between the average density at distance _r_ from the reference atom and the density at that same distance of an ideal gas. For more information you can start reading the Wikipedia article of [radial distribution function](https://en.wikipedia.org/wiki/Radial_distribution_function)."
   ]
  },
  {
   "cell_type": "markdown",
   "id": "6a96da74-05a3-4f9e-9372-7b277fc4e543",
   "metadata": {},
   "source": [
    "We start importing the `RadialDistributionFunction` class from exma."
   ]
  },
  {
   "cell_type": "code",
   "execution_count": 10,
   "id": "18b3e07c-b7e7-4eca-9ea2-dfff9172af7c",
   "metadata": {},
   "outputs": [],
   "source": [
    "from exma import RadialDistributionFunction"
   ]
  },
  {
   "cell_type": "markdown",
   "id": "5cf6160e-ea05-403c-b1ab-7b3c4148f6e0",
   "metadata": {},
   "source": [
    "And the mode of use is quite analogous to that of the MSD, some parameters of the inizializer are changed."
   ]
  },
  {
   "cell_type": "code",
   "execution_count": 11,
   "id": "0af3598c-57d4-4a93-8188-708018b11ba9",
   "metadata": {},
   "outputs": [],
   "source": [
    "# for both structures we discard the first 10 equilibration frames\n",
    "solid_rdf = RadialDistributionFunction(frames_solid, start=10, rmax=solid_box[0] / 2)\n",
    "liquid_rdf = RadialDistributionFunction(frames_liquid, start=10, rmax=liquid_box[0] / 2)"
   ]
  },
  {
   "cell_type": "markdown",
   "id": "6a0abe88-252d-41dc-963f-90a6239c292e",
   "metadata": {},
   "source": [
    "In this case we declare that the RDF is calculated up to half the distance from the box, i.e. atoms at a greater distance are ignored."
   ]
  },
  {
   "cell_type": "code",
   "execution_count": 12,
   "id": "a2f54d16-8c09-4317-b4db-0ded55d2b5a2",
   "metadata": {},
   "outputs": [
    {
     "data": {
      "text/html": [
       "<div>\n",
       "<style scoped>\n",
       "    .dataframe tbody tr th:only-of-type {\n",
       "        vertical-align: middle;\n",
       "    }\n",
       "\n",
       "    .dataframe tbody tr th {\n",
       "        vertical-align: top;\n",
       "    }\n",
       "\n",
       "    .dataframe thead th {\n",
       "        text-align: right;\n",
       "    }\n",
       "</style>\n",
       "<table border=\"1\" class=\"dataframe\">\n",
       "  <thead>\n",
       "    <tr style=\"text-align: right;\">\n",
       "      <th></th>\n",
       "      <th>r</th>\n",
       "      <th>rdf</th>\n",
       "    </tr>\n",
       "  </thead>\n",
       "  <tbody>\n",
       "    <tr>\n",
       "      <th>0</th>\n",
       "      <td>0.018673</td>\n",
       "      <td>0.000000</td>\n",
       "    </tr>\n",
       "    <tr>\n",
       "      <th>1</th>\n",
       "      <td>0.056018</td>\n",
       "      <td>0.000000</td>\n",
       "    </tr>\n",
       "    <tr>\n",
       "      <th>2</th>\n",
       "      <td>0.093363</td>\n",
       "      <td>0.000000</td>\n",
       "    </tr>\n",
       "    <tr>\n",
       "      <th>3</th>\n",
       "      <td>0.130708</td>\n",
       "      <td>0.000000</td>\n",
       "    </tr>\n",
       "    <tr>\n",
       "      <th>4</th>\n",
       "      <td>0.168053</td>\n",
       "      <td>0.000000</td>\n",
       "    </tr>\n",
       "    <tr>\n",
       "      <th>...</th>\n",
       "      <td>...</td>\n",
       "      <td>...</td>\n",
       "    </tr>\n",
       "    <tr>\n",
       "      <th>95</th>\n",
       "      <td>3.566452</td>\n",
       "      <td>0.779633</td>\n",
       "    </tr>\n",
       "    <tr>\n",
       "      <th>96</th>\n",
       "      <td>3.603797</td>\n",
       "      <td>0.791239</td>\n",
       "    </tr>\n",
       "    <tr>\n",
       "      <th>97</th>\n",
       "      <td>3.641142</td>\n",
       "      <td>0.879388</td>\n",
       "    </tr>\n",
       "    <tr>\n",
       "      <th>98</th>\n",
       "      <td>3.678487</td>\n",
       "      <td>1.032154</td>\n",
       "    </tr>\n",
       "    <tr>\n",
       "      <th>99</th>\n",
       "      <td>3.715832</td>\n",
       "      <td>1.297041</td>\n",
       "    </tr>\n",
       "  </tbody>\n",
       "</table>\n",
       "<p>100 rows × 2 columns</p>\n",
       "</div>"
      ],
      "text/plain": [
       "           r       rdf\n",
       "0   0.018673  0.000000\n",
       "1   0.056018  0.000000\n",
       "2   0.093363  0.000000\n",
       "3   0.130708  0.000000\n",
       "4   0.168053  0.000000\n",
       "..       ...       ...\n",
       "95  3.566452  0.779633\n",
       "96  3.603797  0.791239\n",
       "97  3.641142  0.879388\n",
       "98  3.678487  1.032154\n",
       "99  3.715832  1.297041\n",
       "\n",
       "[100 rows x 2 columns]"
      ]
     },
     "execution_count": 12,
     "metadata": {},
     "output_type": "execute_result"
    }
   ],
   "source": [
    "solid_rdf.calculate(box=solid_box)"
   ]
  },
  {
   "cell_type": "code",
   "execution_count": 13,
   "id": "c5ef68c6-7efd-477d-a5d7-34c941fea289",
   "metadata": {},
   "outputs": [
    {
     "data": {
      "text/html": [
       "<div>\n",
       "<style scoped>\n",
       "    .dataframe tbody tr th:only-of-type {\n",
       "        vertical-align: middle;\n",
       "    }\n",
       "\n",
       "    .dataframe tbody tr th {\n",
       "        vertical-align: top;\n",
       "    }\n",
       "\n",
       "    .dataframe thead th {\n",
       "        text-align: right;\n",
       "    }\n",
       "</style>\n",
       "<table border=\"1\" class=\"dataframe\">\n",
       "  <thead>\n",
       "    <tr style=\"text-align: right;\">\n",
       "      <th></th>\n",
       "      <th>r</th>\n",
       "      <th>rdf</th>\n",
       "    </tr>\n",
       "  </thead>\n",
       "  <tbody>\n",
       "    <tr>\n",
       "      <th>0</th>\n",
       "      <td>0.021375</td>\n",
       "      <td>0.000000</td>\n",
       "    </tr>\n",
       "    <tr>\n",
       "      <th>1</th>\n",
       "      <td>0.064124</td>\n",
       "      <td>0.000000</td>\n",
       "    </tr>\n",
       "    <tr>\n",
       "      <th>2</th>\n",
       "      <td>0.106874</td>\n",
       "      <td>0.000000</td>\n",
       "    </tr>\n",
       "    <tr>\n",
       "      <th>3</th>\n",
       "      <td>0.149623</td>\n",
       "      <td>0.000000</td>\n",
       "    </tr>\n",
       "    <tr>\n",
       "      <th>4</th>\n",
       "      <td>0.192372</td>\n",
       "      <td>0.000000</td>\n",
       "    </tr>\n",
       "    <tr>\n",
       "      <th>...</th>\n",
       "      <td>...</td>\n",
       "      <td>...</td>\n",
       "    </tr>\n",
       "    <tr>\n",
       "      <th>95</th>\n",
       "      <td>4.082568</td>\n",
       "      <td>1.017443</td>\n",
       "    </tr>\n",
       "    <tr>\n",
       "      <th>96</th>\n",
       "      <td>4.125317</td>\n",
       "      <td>1.013300</td>\n",
       "    </tr>\n",
       "    <tr>\n",
       "      <th>97</th>\n",
       "      <td>4.168067</td>\n",
       "      <td>1.007181</td>\n",
       "    </tr>\n",
       "    <tr>\n",
       "      <th>98</th>\n",
       "      <td>4.210816</td>\n",
       "      <td>1.000252</td>\n",
       "    </tr>\n",
       "    <tr>\n",
       "      <th>99</th>\n",
       "      <td>4.253565</td>\n",
       "      <td>0.993149</td>\n",
       "    </tr>\n",
       "  </tbody>\n",
       "</table>\n",
       "<p>100 rows × 2 columns</p>\n",
       "</div>"
      ],
      "text/plain": [
       "           r       rdf\n",
       "0   0.021375  0.000000\n",
       "1   0.064124  0.000000\n",
       "2   0.106874  0.000000\n",
       "3   0.149623  0.000000\n",
       "4   0.192372  0.000000\n",
       "..       ...       ...\n",
       "95  4.082568  1.017443\n",
       "96  4.125317  1.013300\n",
       "97  4.168067  1.007181\n",
       "98  4.210816  1.000252\n",
       "99  4.253565  0.993149\n",
       "\n",
       "[100 rows x 2 columns]"
      ]
     },
     "execution_count": 13,
     "metadata": {},
     "output_type": "execute_result"
    }
   ],
   "source": [
    "liquid_rdf.calculate(box=liquid_box)"
   ]
  },
  {
   "cell_type": "markdown",
   "id": "7f8b28d8-b248-488e-9b57-426669aca6ca",
   "metadata": {},
   "source": [
    "As before, we can obtain the corresponding graph."
   ]
  },
  {
   "cell_type": "code",
   "execution_count": 14,
   "id": "28be3451-7a5e-4af8-a35d-df5f3ef3cd0d",
   "metadata": {},
   "outputs": [
    {
     "data": {
      "image/png": "[encoded data removed]",
      "text/plain": [
       "<Figure size 432x288 with 1 Axes>"
      ]
     },
     "metadata": {
      "needs_background": "light"
     },
     "output_type": "display_data"
    }
   ],
   "source": [
    "ax = plt.gca()\n",
    "\n",
    "# we pass the same axis to both plots and define the labels offered by the wrapper to the plot function \n",
    "solid_rdf.plot(ax=ax, plot_kws={\"label\": \"solid\"})\n",
    "liquid_rdf.plot(ax=ax, plot_kws={\"label\": \"liquid\"})\n",
    "\n",
    "# we add the legend to the plot\n",
    "plt.legend()\n",
    "plt.show()"
   ]
  },
  {
   "cell_type": "markdown",
   "id": "b196d7fa-3760-43cd-aef9-f4ece35793f4",
   "metadata": {},
   "source": [
    "We get the expected results. For the solid phase we have the defined peaks of an fcc crystal with noise given by the temperature and for the liquid phase we get the usual behavior of a liquid. For both systems we have that the g(r) oscillates around 1 for larger distances."
   ]
  },
  {
   "cell_type": "markdown",
   "id": "62fe3a56-5ec3-48ad-adaa-6a472f751436",
   "metadata": {},
   "source": [
    "## Coordination Number (CN)"
   ]
  },
  {
   "cell_type": "markdown",
   "id": "6972dfe9-68d7-4009-8963-ee3403d67ca6",
   "metadata": {},
   "source": [
    "The coordination number (CN), also called ligancy, of a given atom in a chemical system is defined as the number of atoms, molecules or ions bonded to it. This quantity is calculated considered the number of neighbors surrounding a given atom type a cutoff distance.\n",
    "\n",
    "From the previous graph we can define the cut-off radius to consider only the first neighbors."
   ]
  },
  {
   "cell_type": "code",
   "execution_count": 15,
   "id": "efb62187-962c-46dd-b5b3-d93f57ecdbbf",
   "metadata": {},
   "outputs": [],
   "source": [
    "solid_rcut = 1.29\n",
    "liquid_rcut = 1.56"
   ]
  },
  {
   "cell_type": "markdown",
   "id": "d24f6ab4-db39-4ddf-b0b3-5d05eb7cfd4a",
   "metadata": {},
   "source": [
    "Now we import the `CoordinationNumber` class."
   ]
  },
  {
   "cell_type": "code",
   "execution_count": 16,
   "id": "bc7e0f0f-8247-4c87-9869-ab7d9ef45f4a",
   "metadata": {},
   "outputs": [],
   "source": [
    "from exma import CoordinationNumber"
   ]
  },
  {
   "cell_type": "markdown",
   "id": "e5ee56ea-6a92-4317-9a1c-760c0f5cd8ab",
   "metadata": {},
   "source": [
    "We have the same conduct as in the previos classes."
   ]
  },
  {
   "cell_type": "code",
   "execution_count": 17,
   "id": "baf15816-66d7-4ef9-a47d-c92c8d5a87d9",
   "metadata": {},
   "outputs": [],
   "source": [
    "solid_cn = CoordinationNumber(frames_solid, solid_rcut, start=10)\n",
    "liquid_cn = CoordinationNumber(frames_liquid, liquid_rcut, start=10)"
   ]
  },
  {
   "cell_type": "markdown",
   "id": "3c031ee5-40c0-4106-a815-632e196248f8",
   "metadata": {},
   "source": [
    "In this case there is no point in making a plot, so the `calculate` method directly gives us the mean and standard deviation of the number of coordination calculated over all the production frames."
   ]
  },
  {
   "cell_type": "code",
   "execution_count": 18,
   "id": "bc2497b5-aed3-4811-9ad7-1baec83f2a44",
   "metadata": {},
   "outputs": [
    {
     "data": {
      "text/plain": [
       "(12.006931937172777, 0.007931589852952529)"
      ]
     },
     "execution_count": 18,
     "metadata": {},
     "output_type": "execute_result"
    }
   ],
   "source": [
    "solid_cn.calculate(box=solid_box)"
   ]
  },
  {
   "cell_type": "code",
   "execution_count": 19,
   "id": "13daf815-adcb-4151-bd4b-2b385acb6e45",
   "metadata": {},
   "outputs": [
    {
     "data": {
      "text/plain": [
       "(12.220104712041884, 0.10884996812826905)"
      ]
     },
     "execution_count": 19,
     "metadata": {},
     "output_type": "execute_result"
    }
   ],
   "source": [
    "liquid_cn.calculate(box=liquid_box)"
   ]
  },
  {
   "cell_type": "markdown",
   "id": "4c40d617-55f6-4a90-89f4-d2a97a13c8ca",
   "metadata": {},
   "source": [
    "For both cases we have roughly the same result of the CN close to 12 typical value of a compact packing structure, as is the _fcc_ crystal and its amorphization.\n",
    "\n",
    "If we want to access the coordination number of each atom we can use the function `to_dataframe`."
   ]
  },
  {
   "cell_type": "code",
   "execution_count": null,
   "id": "28fbd2ba-ab9c-4333-a6f8-6a2ed7f182a7",
   "metadata": {},
   "outputs": [],
   "source": []
  }
 ],
 "metadata": {
  "kernelspec": {
   "display_name": "exma",
   "language": "python",
   "name": "exma"
  },
  "language_info": {
   "codemirror_mode": {
    "name": "ipython",
    "version": 3
   },
   "file_extension": ".py",
   "mimetype": "text/x-python",
   "name": "python",
   "nbconvert_exporter": "python",
   "pygments_lexer": "ipython3",
   "version": "3.8.10"
  }
 },
 "nbformat": 4,
 "nbformat_minor": 5
}
